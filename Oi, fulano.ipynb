{
 "cells": [
  {
   "cell_type": "code",
   "execution_count": 51,
   "id": "738fd008-4f63-4ad3-ba57-fd2af9084287",
   "metadata": {},
   "outputs": [
    {
     "data": {
      "text/plain": [
       "'\\nPrograma: Oi, fulano\\nDescrição: Pergunte o nome do usuário e apresente a mensagem ”Oi,...”, seguida pelo nome do\\nusuário.\\nAutor: Leandra Arruda de Oliveira\\nData: 27/02/2025\\nVersão: 0.0.1\\n'"
      ]
     },
     "execution_count": 51,
     "metadata": {},
     "output_type": "execute_result"
    }
   ],
   "source": [
    "\"\"\"\n",
    "Programa: Oi, fulano\n",
    "Descrição: Pergunte o nome do usuário e apresente a mensagem ”Oi,...”, seguida pelo nome do\n",
    "usuário.\n",
    "Autor: Leandra Arruda de Oliveira\n",
    "Data: 27/02/2025\n",
    "Versão: 0.0.1\n",
    "\"\"\"\n",
    "\n"
   ]
  },
  {
   "cell_type": "code",
   "execution_count": 53,
   "id": "5bad80ea-24f1-47f4-a94f-fc3d04283950",
   "metadata": {},
   "outputs": [],
   "source": [
    "# Alocação de memória\n",
    "nome_usuario = \"\"\n",
    "frase = \"\"\n"
   ]
  },
  {
   "cell_type": "code",
   "execution_count": 55,
   "id": "d4b096b4-e5a1-47ca-91ac-9c695a720699",
   "metadata": {},
   "outputs": [
    {
     "name": "stdin",
     "output_type": "stream",
     "text": [
      "\n",
      "Qual o seu nome?:  Leandra\n"
     ]
    }
   ],
   "source": [
    "# Entrada de dados\n",
    "nome_usuario = input(\"\\nQual o seu nome?: \")\n"
   ]
  },
  {
   "cell_type": "code",
   "execution_count": 70,
   "id": "3704e1be-0062-4e07-afa2-f3eeb495bc92",
   "metadata": {},
   "outputs": [],
   "source": [
    "# Processamento de dados\n",
    "frase = f\"Oi, {nome_usuario}\""
   ]
  },
  {
   "cell_type": "code",
   "execution_count": 72,
   "id": "52c9fcbc-2590-4e2f-a1c6-9db76b9d435f",
   "metadata": {},
   "outputs": [
    {
     "name": "stdout",
     "output_type": "stream",
     "text": [
      "Oi, Leandra\n"
     ]
    }
   ],
   "source": [
    "# Saída de dados\n",
    "print(frase)"
   ]
  }
 ],
 "metadata": {
  "kernelspec": {
   "display_name": "Python [conda env:base] *",
   "language": "python",
   "name": "conda-base-py"
  },
  "language_info": {
   "codemirror_mode": {
    "name": "ipython",
    "version": 3
   },
   "file_extension": ".py",
   "mimetype": "text/x-python",
   "name": "python",
   "nbconvert_exporter": "python",
   "pygments_lexer": "ipython3",
   "version": "3.12.7"
  }
 },
 "nbformat": 4,
 "nbformat_minor": 5
}
